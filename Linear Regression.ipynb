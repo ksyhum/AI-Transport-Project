{
 "cells": [
  {
   "cell_type": "code",
   "execution_count": 3,
   "id": "aa70a945",
   "metadata": {
    "id": "aa70a945",
    "executionInfo": {
     "status": "ok",
     "timestamp": 1728461895143,
     "user_tz": -120,
     "elapsed": 293,
     "user": {
      "displayName": "kasyful humam",
      "userId": "15081687490679394530"
     }
    },
    "ExecuteTime": {
     "end_time": "2025-01-22T12:03:40.789363Z",
     "start_time": "2025-01-22T12:03:40.785579Z"
    }
   },
   "outputs": [],
   "source": [
    "import pandas as pd"
   ]
  },
  {
   "cell_type": "code",
   "execution_count": 4,
   "id": "7a54880f",
   "metadata": {
    "id": "7a54880f",
    "colab": {
     "base_uri": "https://localhost:8080/",
     "height": 339
    },
    "executionInfo": {
     "status": "error",
     "timestamp": 1728461918566,
     "user_tz": -120,
     "elapsed": 319,
     "user": {
      "displayName": "kasyful humam",
      "userId": "15081687490679394530"
     }
    },
    "outputId": "527b28cf-ba1f-4d5f-dcdc-0ea959d1b36d",
    "ExecuteTime": {
     "end_time": "2025-01-22T12:03:42.707042Z",
     "start_time": "2025-01-22T12:03:41.454148Z"
    }
   },
   "outputs": [
    {
     "data": {
      "text/plain": "   Calendar_date  route_id  bus_id  stop_sequence  arrival_delay  dwell_time  \\\n0       20220108         4   41344              1            151           0   \n1       20220108         4   41344              2            185          24   \n2       20220108         4   41344              3            186           0   \n3       20220108         4   41344              4            202          12   \n4       20220108         4   41344              5            242          21   \n\n   travel_time_for_previous_section  scheduled_travel_time  \\\n0                                 0                    120   \n1                               171                     45   \n2                                55                     41   \n3                                42                     94   \n4                                98                     86   \n\n   upstream_stop_delay  origin_delay  ...  factor(weather)Rain  \\\n0                  100           100  ...                    0   \n1                  151           100  ...                    0   \n2                  185           100  ...                    0   \n3                  186           100  ...                    0   \n4                  202           100  ...                    0   \n\n   factor(weather)Snow  factor(temperature)Cold  \\\n0                    0                        0   \n1                    0                        0   \n2                    0                        0   \n3                    0                        0   \n4                    0                        0   \n\n   factor(temperature)Extra_cold factor(temperature)Normal  \\\n0                              0                         1   \n1                              0                         1   \n2                              0                         1   \n3                              0                         1   \n4                              0                         1   \n\n  factor(day_of_week)weekday factor(day_of_week)weekend  \\\n0                          0                          1   \n1                          0                          1   \n2                          0                          1   \n3                          0                          1   \n4                          0                          1   \n\n  factor(time_of_day)Afternoon_peak  factor(time_of_day)Morning_peak  \\\n0                                 0                                0   \n1                                 0                                0   \n2                                 0                                0   \n3                                 0                                0   \n4                                 0                                0   \n\n   factor(time_of_day)Off-peak  \n0                            1  \n1                            1  \n2                            1  \n3                            1  \n4                            1  \n\n[5 rows x 31 columns]",
      "text/html": "<div>\n<style scoped>\n    .dataframe tbody tr th:only-of-type {\n        vertical-align: middle;\n    }\n\n    .dataframe tbody tr th {\n        vertical-align: top;\n    }\n\n    .dataframe thead th {\n        text-align: right;\n    }\n</style>\n<table border=\"1\" class=\"dataframe\">\n  <thead>\n    <tr style=\"text-align: right;\">\n      <th></th>\n      <th>Calendar_date</th>\n      <th>route_id</th>\n      <th>bus_id</th>\n      <th>stop_sequence</th>\n      <th>arrival_delay</th>\n      <th>dwell_time</th>\n      <th>travel_time_for_previous_section</th>\n      <th>scheduled_travel_time</th>\n      <th>upstream_stop_delay</th>\n      <th>origin_delay</th>\n      <th>...</th>\n      <th>factor(weather)Rain</th>\n      <th>factor(weather)Snow</th>\n      <th>factor(temperature)Cold</th>\n      <th>factor(temperature)Extra_cold</th>\n      <th>factor(temperature)Normal</th>\n      <th>factor(day_of_week)weekday</th>\n      <th>factor(day_of_week)weekend</th>\n      <th>factor(time_of_day)Afternoon_peak</th>\n      <th>factor(time_of_day)Morning_peak</th>\n      <th>factor(time_of_day)Off-peak</th>\n    </tr>\n  </thead>\n  <tbody>\n    <tr>\n      <th>0</th>\n      <td>20220108</td>\n      <td>4</td>\n      <td>41344</td>\n      <td>1</td>\n      <td>151</td>\n      <td>0</td>\n      <td>0</td>\n      <td>120</td>\n      <td>100</td>\n      <td>100</td>\n      <td>...</td>\n      <td>0</td>\n      <td>0</td>\n      <td>0</td>\n      <td>0</td>\n      <td>1</td>\n      <td>0</td>\n      <td>1</td>\n      <td>0</td>\n      <td>0</td>\n      <td>1</td>\n    </tr>\n    <tr>\n      <th>1</th>\n      <td>20220108</td>\n      <td>4</td>\n      <td>41344</td>\n      <td>2</td>\n      <td>185</td>\n      <td>24</td>\n      <td>171</td>\n      <td>45</td>\n      <td>151</td>\n      <td>100</td>\n      <td>...</td>\n      <td>0</td>\n      <td>0</td>\n      <td>0</td>\n      <td>0</td>\n      <td>1</td>\n      <td>0</td>\n      <td>1</td>\n      <td>0</td>\n      <td>0</td>\n      <td>1</td>\n    </tr>\n    <tr>\n      <th>2</th>\n      <td>20220108</td>\n      <td>4</td>\n      <td>41344</td>\n      <td>3</td>\n      <td>186</td>\n      <td>0</td>\n      <td>55</td>\n      <td>41</td>\n      <td>185</td>\n      <td>100</td>\n      <td>...</td>\n      <td>0</td>\n      <td>0</td>\n      <td>0</td>\n      <td>0</td>\n      <td>1</td>\n      <td>0</td>\n      <td>1</td>\n      <td>0</td>\n      <td>0</td>\n      <td>1</td>\n    </tr>\n    <tr>\n      <th>3</th>\n      <td>20220108</td>\n      <td>4</td>\n      <td>41344</td>\n      <td>4</td>\n      <td>202</td>\n      <td>12</td>\n      <td>42</td>\n      <td>94</td>\n      <td>186</td>\n      <td>100</td>\n      <td>...</td>\n      <td>0</td>\n      <td>0</td>\n      <td>0</td>\n      <td>0</td>\n      <td>1</td>\n      <td>0</td>\n      <td>1</td>\n      <td>0</td>\n      <td>0</td>\n      <td>1</td>\n    </tr>\n    <tr>\n      <th>4</th>\n      <td>20220108</td>\n      <td>4</td>\n      <td>41344</td>\n      <td>5</td>\n      <td>242</td>\n      <td>21</td>\n      <td>98</td>\n      <td>86</td>\n      <td>202</td>\n      <td>100</td>\n      <td>...</td>\n      <td>0</td>\n      <td>0</td>\n      <td>0</td>\n      <td>0</td>\n      <td>1</td>\n      <td>0</td>\n      <td>1</td>\n      <td>0</td>\n      <td>0</td>\n      <td>1</td>\n    </tr>\n  </tbody>\n</table>\n<p>5 rows × 31 columns</p>\n</div>"
     },
     "execution_count": 4,
     "metadata": {},
     "output_type": "execute_result"
    }
   ],
   "source": [
    "file_path = 'D:\\Humam\\KTH\\AI Transportation\\AIInTransportationProject\\Dataset-PT.csv'\n",
    "df = pd.read_csv(file_path, skiprows=1)  # Ubah skiprows sesuai kebutuhan\n",
    "df.head()"
   ]
  },
  {
   "cell_type": "code",
   "execution_count": 6,
   "id": "71fd736b",
   "metadata": {
    "id": "71fd736b",
    "executionInfo": {
     "status": "aborted",
     "timestamp": 1728461895814,
     "user_tz": -120,
     "elapsed": 13,
     "user": {
      "displayName": "kasyful humam",
      "userId": "15081687490679394530"
     }
    },
    "ExecuteTime": {
     "end_time": "2025-01-22T12:03:56.895261Z",
     "start_time": "2025-01-22T12:03:56.887474Z"
    }
   },
   "outputs": [
    {
     "data": {
      "text/plain": "Index(['Calendar_date', 'route_id', 'bus_id', 'stop_sequence', 'arrival_delay',\n       'dwell_time', 'travel_time_for_previous_section',\n       'scheduled_travel_time', 'upstream_stop_delay', 'origin_delay',\n       'previous_bus_delay', 'previous_trip_travel_time', 'traffic_condition',\n       'recurrent_delay', 'weather', 'temperature', 'day_of_week',\n       'time_of_day', 'factor(weather)Light_Rain', 'factor(weather)Light_Snow',\n       'factor(weather)Normal', 'factor(weather)Rain', 'factor(weather)Snow',\n       'factor(temperature)Cold', 'factor(temperature)Extra_cold',\n       'factor(temperature)Normal', 'factor(day_of_week)weekday',\n       'factor(day_of_week)weekend', 'factor(time_of_day)Afternoon_peak',\n       'factor(time_of_day)Morning_peak', 'factor(time_of_day)Off-peak'],\n      dtype='object')"
     },
     "execution_count": 6,
     "metadata": {},
     "output_type": "execute_result"
    }
   ],
   "source": [
    "df.columns"
   ]
  },
  {
   "cell_type": "code",
   "outputs": [],
   "source": [
    "df = df.drop(['weather', 'temperature', 'day_of_week','time_of_day','Calendar_date','bus_id','route_id'], axis=1)"
   ],
   "metadata": {
    "id": "a4af5286b5102d43",
    "executionInfo": {
     "status": "aborted",
     "timestamp": 1728461895814,
     "user_tz": -120,
     "elapsed": 13,
     "user": {
      "displayName": "kasyful humam",
      "userId": "15081687490679394530"
     }
    },
    "ExecuteTime": {
     "end_time": "2025-01-22T12:03:57.849696Z",
     "start_time": "2025-01-22T12:03:57.788581Z"
    }
   },
   "id": "a4af5286b5102d43",
   "execution_count": 7
  },
  {
   "cell_type": "code",
   "execution_count": 8,
   "id": "1d8560e4",
   "metadata": {
    "id": "1d8560e4",
    "executionInfo": {
     "status": "aborted",
     "timestamp": 1728461895814,
     "user_tz": -120,
     "elapsed": 12,
     "user": {
      "displayName": "kasyful humam",
      "userId": "15081687490679394530"
     }
    },
    "ExecuteTime": {
     "end_time": "2025-01-22T12:03:58.768199Z",
     "start_time": "2025-01-22T12:03:58.749555Z"
    }
   },
   "outputs": [
    {
     "data": {
      "text/plain": "   stop_sequence  arrival_delay  dwell_time  travel_time_for_previous_section  \\\n0              1            151           0                                 0   \n1              2            185          24                               171   \n2              3            186           0                                55   \n3              4            202          12                                42   \n4              5            242          21                                98   \n\n   scheduled_travel_time  upstream_stop_delay  origin_delay  \\\n0                    120                  100           100   \n1                     45                  151           100   \n2                     41                  185           100   \n3                     94                  186           100   \n4                     86                  202           100   \n\n   previous_bus_delay  previous_trip_travel_time  traffic_condition  ...  \\\n0                 160                        216         168.666667  ...   \n1                 198                         47          46.333333  ...   \n2                 189                         32          36.666667  ...   \n3                 200                         89          88.000000  ...   \n4                 256                        123         102.000000  ...   \n\n   factor(weather)Rain  factor(weather)Snow  factor(temperature)Cold  \\\n0                    0                    0                        0   \n1                    0                    0                        0   \n2                    0                    0                        0   \n3                    0                    0                        0   \n4                    0                    0                        0   \n\n   factor(temperature)Extra_cold  factor(temperature)Normal  \\\n0                              0                          1   \n1                              0                          1   \n2                              0                          1   \n3                              0                          1   \n4                              0                          1   \n\n   factor(day_of_week)weekday  factor(day_of_week)weekend  \\\n0                           0                           1   \n1                           0                           1   \n2                           0                           1   \n3                           0                           1   \n4                           0                           1   \n\n   factor(time_of_day)Afternoon_peak  factor(time_of_day)Morning_peak  \\\n0                                  0                                0   \n1                                  0                                0   \n2                                  0                                0   \n3                                  0                                0   \n4                                  0                                0   \n\n   factor(time_of_day)Off-peak  \n0                            1  \n1                            1  \n2                            1  \n3                            1  \n4                            1  \n\n[5 rows x 24 columns]",
      "text/html": "<div>\n<style scoped>\n    .dataframe tbody tr th:only-of-type {\n        vertical-align: middle;\n    }\n\n    .dataframe tbody tr th {\n        vertical-align: top;\n    }\n\n    .dataframe thead th {\n        text-align: right;\n    }\n</style>\n<table border=\"1\" class=\"dataframe\">\n  <thead>\n    <tr style=\"text-align: right;\">\n      <th></th>\n      <th>stop_sequence</th>\n      <th>arrival_delay</th>\n      <th>dwell_time</th>\n      <th>travel_time_for_previous_section</th>\n      <th>scheduled_travel_time</th>\n      <th>upstream_stop_delay</th>\n      <th>origin_delay</th>\n      <th>previous_bus_delay</th>\n      <th>previous_trip_travel_time</th>\n      <th>traffic_condition</th>\n      <th>...</th>\n      <th>factor(weather)Rain</th>\n      <th>factor(weather)Snow</th>\n      <th>factor(temperature)Cold</th>\n      <th>factor(temperature)Extra_cold</th>\n      <th>factor(temperature)Normal</th>\n      <th>factor(day_of_week)weekday</th>\n      <th>factor(day_of_week)weekend</th>\n      <th>factor(time_of_day)Afternoon_peak</th>\n      <th>factor(time_of_day)Morning_peak</th>\n      <th>factor(time_of_day)Off-peak</th>\n    </tr>\n  </thead>\n  <tbody>\n    <tr>\n      <th>0</th>\n      <td>1</td>\n      <td>151</td>\n      <td>0</td>\n      <td>0</td>\n      <td>120</td>\n      <td>100</td>\n      <td>100</td>\n      <td>160</td>\n      <td>216</td>\n      <td>168.666667</td>\n      <td>...</td>\n      <td>0</td>\n      <td>0</td>\n      <td>0</td>\n      <td>0</td>\n      <td>1</td>\n      <td>0</td>\n      <td>1</td>\n      <td>0</td>\n      <td>0</td>\n      <td>1</td>\n    </tr>\n    <tr>\n      <th>1</th>\n      <td>2</td>\n      <td>185</td>\n      <td>24</td>\n      <td>171</td>\n      <td>45</td>\n      <td>151</td>\n      <td>100</td>\n      <td>198</td>\n      <td>47</td>\n      <td>46.333333</td>\n      <td>...</td>\n      <td>0</td>\n      <td>0</td>\n      <td>0</td>\n      <td>0</td>\n      <td>1</td>\n      <td>0</td>\n      <td>1</td>\n      <td>0</td>\n      <td>0</td>\n      <td>1</td>\n    </tr>\n    <tr>\n      <th>2</th>\n      <td>3</td>\n      <td>186</td>\n      <td>0</td>\n      <td>55</td>\n      <td>41</td>\n      <td>185</td>\n      <td>100</td>\n      <td>189</td>\n      <td>32</td>\n      <td>36.666667</td>\n      <td>...</td>\n      <td>0</td>\n      <td>0</td>\n      <td>0</td>\n      <td>0</td>\n      <td>1</td>\n      <td>0</td>\n      <td>1</td>\n      <td>0</td>\n      <td>0</td>\n      <td>1</td>\n    </tr>\n    <tr>\n      <th>3</th>\n      <td>4</td>\n      <td>202</td>\n      <td>12</td>\n      <td>42</td>\n      <td>94</td>\n      <td>186</td>\n      <td>100</td>\n      <td>200</td>\n      <td>89</td>\n      <td>88.000000</td>\n      <td>...</td>\n      <td>0</td>\n      <td>0</td>\n      <td>0</td>\n      <td>0</td>\n      <td>1</td>\n      <td>0</td>\n      <td>1</td>\n      <td>0</td>\n      <td>0</td>\n      <td>1</td>\n    </tr>\n    <tr>\n      <th>4</th>\n      <td>5</td>\n      <td>242</td>\n      <td>21</td>\n      <td>98</td>\n      <td>86</td>\n      <td>202</td>\n      <td>100</td>\n      <td>256</td>\n      <td>123</td>\n      <td>102.000000</td>\n      <td>...</td>\n      <td>0</td>\n      <td>0</td>\n      <td>0</td>\n      <td>0</td>\n      <td>1</td>\n      <td>0</td>\n      <td>1</td>\n      <td>0</td>\n      <td>0</td>\n      <td>1</td>\n    </tr>\n  </tbody>\n</table>\n<p>5 rows × 24 columns</p>\n</div>"
     },
     "execution_count": 8,
     "metadata": {},
     "output_type": "execute_result"
    }
   ],
   "source": [
    "df.head()"
   ]
  },
  {
   "cell_type": "code",
   "outputs": [
    {
     "name": "stdout",
     "output_type": "stream",
     "text": [
      "Total buses with outliers: 21\n",
      "Number of initial outliers: 545\n",
      "Number of rows after removing buses with outliers: 544536\n",
      "Removed rows: 567\n"
     ]
    }
   ],
   "source": [
    "import numpy as np\n",
    "import pandas as pd\n",
    "\n",
    "# Step 1: Calculate the median of the arrival_delay column\n",
    "median_origin_delay = np.median(df['origin_delay'])\n",
    "\n",
    "# Step 2: Calculate the absolute distance from the median\n",
    "df['distance_from_median'] = abs(df['origin_delay'] - median_origin_delay)\n",
    "\n",
    "# Step 3: Sort by distance from the median in descending order\n",
    "df_sorted = df.sort_values(by='distance_from_median', ascending=False)\n",
    "\n",
    "# Step 4: Calculate how many rows correspond to 5% of the data\n",
    "num_outliers = int(0.001 * len(df))\n",
    "\n",
    "# Step 5: Mark top 5% rows as outliers (add 'outlier' attribute)\n",
    "df_sorted['outlier'] = 0  # Default to 0 (not an outlier)\n",
    "df_sorted.iloc[:num_outliers, df_sorted.columns.get_loc('outlier')] = 1  # Set top 5% as outliers\n",
    "\n",
    "# Step 6: Identify all 'bus_id' that have at least one outlier\n",
    "outlier_bus_ids = df_sorted[df_sorted['outlier'] == 1]['origin_delay'].unique()\n",
    "\n",
    "# Step 7: Remove all rows that have a 'bus_id' in 'outlier_bus_ids'\n",
    "df_final = df_sorted[~df_sorted['origin_delay'].isin(outlier_bus_ids)]\n",
    "\n",
    "# Step 8: Drop temporary column 'distance_from_median'\n",
    "df_final = df_final.drop(columns=['distance_from_median'])\n",
    "\n",
    "# Optional: Display the results\n",
    "print(f\"Total buses with outliers: {len(outlier_bus_ids)}\")\n",
    "print(f\"Number of initial outliers: {num_outliers}\")\n",
    "print(f\"Number of rows after removing buses with outliers: {len(df_final)}\")\n",
    "print(f\"Removed rows: {len(df)-len(df_final)}\")"
   ],
   "metadata": {
    "id": "5ad3bbb187b27eb1",
    "executionInfo": {
     "status": "aborted",
     "timestamp": 1728461895814,
     "user_tz": -120,
     "elapsed": 12,
     "user": {
      "displayName": "kasyful humam",
      "userId": "15081687490679394530"
     }
    },
    "ExecuteTime": {
     "end_time": "2025-01-22T12:04:00.286370Z",
     "start_time": "2025-01-22T12:03:59.931657Z"
    }
   },
   "id": "5ad3bbb187b27eb1",
   "execution_count": 9
  },
  {
   "cell_type": "code",
   "outputs": [],
   "source": [
    "df = df_final\n",
    "df = df.drop(['factor(weather)Normal', 'factor(temperature)Normal', 'factor(weather)Rain', 'factor(weather)Snow', 'factor(weather)Light_Snow', 'factor(temperature)Cold', 'factor(temperature)Extra_cold', 'factor(weather)Light_Rain', 'previous_trip_travel_time', 'traffic_condition'],  axis=1)"
   ],
   "metadata": {
    "id": "23eb5d762f7f005c",
    "executionInfo": {
     "status": "aborted",
     "timestamp": 1728461895814,
     "user_tz": -120,
     "elapsed": 12,
     "user": {
      "displayName": "kasyful humam",
      "userId": "15081687490679394530"
     }
    },
    "ExecuteTime": {
     "end_time": "2025-01-22T12:04:01.214316Z",
     "start_time": "2025-01-22T12:04:01.184613Z"
    }
   },
   "id": "23eb5d762f7f005c",
   "execution_count": 10
  },
  {
   "cell_type": "code",
   "execution_count": 11,
   "id": "fb465688",
   "metadata": {
    "id": "fb465688",
    "executionInfo": {
     "status": "aborted",
     "timestamp": 1728461895814,
     "user_tz": -120,
     "elapsed": 12,
     "user": {
      "displayName": "kasyful humam",
      "userId": "15081687490679394530"
     }
    },
    "ExecuteTime": {
     "end_time": "2025-01-22T12:04:02.055841Z",
     "start_time": "2025-01-22T12:04:02.013676Z"
    }
   },
   "outputs": [
    {
     "data": {
      "text/plain": "        stop_sequence  dwell_time  travel_time_for_previous_section  \\\n312621             16          22                                46   \n312608              3          44                                43   \n312607              2          31                               211   \n312629             24           0                                42   \n312628             23          25                                44   \n\n        scheduled_travel_time  upstream_stop_delay  origin_delay  \\\n312621                    139                  973           989   \n312608                     69                 1019           989   \n312607                     75                 1020           989   \n312629                    115                  995           989   \n312628                     55                  983           989   \n\n        previous_bus_delay  recurrent_delay  factor(day_of_week)weekday  \\\n312621                  74       105.727273                           0   \n312608                  11        44.272727                           0   \n312607                  23        48.670455                           0   \n312629                  38        84.840909                           0   \n312628                  46        37.920455                           0   \n\n        factor(day_of_week)weekend  factor(time_of_day)Afternoon_peak  \\\n312621                           1                                  0   \n312608                           1                                  0   \n312607                           1                                  0   \n312629                           1                                  0   \n312628                           1                                  0   \n\n        factor(time_of_day)Morning_peak  factor(time_of_day)Off-peak  outlier  \n312621                                0                            1        0  \n312608                                0                            1        0  \n312607                                0                            1        0  \n312629                                0                            1        0  \n312628                                0                            1        0  ",
      "text/html": "<div>\n<style scoped>\n    .dataframe tbody tr th:only-of-type {\n        vertical-align: middle;\n    }\n\n    .dataframe tbody tr th {\n        vertical-align: top;\n    }\n\n    .dataframe thead th {\n        text-align: right;\n    }\n</style>\n<table border=\"1\" class=\"dataframe\">\n  <thead>\n    <tr style=\"text-align: right;\">\n      <th></th>\n      <th>stop_sequence</th>\n      <th>dwell_time</th>\n      <th>travel_time_for_previous_section</th>\n      <th>scheduled_travel_time</th>\n      <th>upstream_stop_delay</th>\n      <th>origin_delay</th>\n      <th>previous_bus_delay</th>\n      <th>recurrent_delay</th>\n      <th>factor(day_of_week)weekday</th>\n      <th>factor(day_of_week)weekend</th>\n      <th>factor(time_of_day)Afternoon_peak</th>\n      <th>factor(time_of_day)Morning_peak</th>\n      <th>factor(time_of_day)Off-peak</th>\n      <th>outlier</th>\n    </tr>\n  </thead>\n  <tbody>\n    <tr>\n      <th>312621</th>\n      <td>16</td>\n      <td>22</td>\n      <td>46</td>\n      <td>139</td>\n      <td>973</td>\n      <td>989</td>\n      <td>74</td>\n      <td>105.727273</td>\n      <td>0</td>\n      <td>1</td>\n      <td>0</td>\n      <td>0</td>\n      <td>1</td>\n      <td>0</td>\n    </tr>\n    <tr>\n      <th>312608</th>\n      <td>3</td>\n      <td>44</td>\n      <td>43</td>\n      <td>69</td>\n      <td>1019</td>\n      <td>989</td>\n      <td>11</td>\n      <td>44.272727</td>\n      <td>0</td>\n      <td>1</td>\n      <td>0</td>\n      <td>0</td>\n      <td>1</td>\n      <td>0</td>\n    </tr>\n    <tr>\n      <th>312607</th>\n      <td>2</td>\n      <td>31</td>\n      <td>211</td>\n      <td>75</td>\n      <td>1020</td>\n      <td>989</td>\n      <td>23</td>\n      <td>48.670455</td>\n      <td>0</td>\n      <td>1</td>\n      <td>0</td>\n      <td>0</td>\n      <td>1</td>\n      <td>0</td>\n    </tr>\n    <tr>\n      <th>312629</th>\n      <td>24</td>\n      <td>0</td>\n      <td>42</td>\n      <td>115</td>\n      <td>995</td>\n      <td>989</td>\n      <td>38</td>\n      <td>84.840909</td>\n      <td>0</td>\n      <td>1</td>\n      <td>0</td>\n      <td>0</td>\n      <td>1</td>\n      <td>0</td>\n    </tr>\n    <tr>\n      <th>312628</th>\n      <td>23</td>\n      <td>25</td>\n      <td>44</td>\n      <td>55</td>\n      <td>983</td>\n      <td>989</td>\n      <td>46</td>\n      <td>37.920455</td>\n      <td>0</td>\n      <td>1</td>\n      <td>0</td>\n      <td>0</td>\n      <td>1</td>\n      <td>0</td>\n    </tr>\n  </tbody>\n</table>\n</div>"
     },
     "execution_count": 11,
     "metadata": {},
     "output_type": "execute_result"
    }
   ],
   "source": [
    "x = df.drop(['arrival_delay'], axis=1)\n",
    "x.head()"
   ]
  },
  {
   "cell_type": "code",
   "execution_count": 12,
   "id": "d3a240a7",
   "metadata": {
    "id": "d3a240a7",
    "executionInfo": {
     "status": "aborted",
     "timestamp": 1728461895815,
     "user_tz": -120,
     "elapsed": 13,
     "user": {
      "displayName": "kasyful humam",
      "userId": "15081687490679394530"
     }
    },
    "ExecuteTime": {
     "end_time": "2025-01-22T12:04:03.392086Z",
     "start_time": "2025-01-22T12:04:03.385441Z"
    }
   },
   "outputs": [
    {
     "data": {
      "text/plain": "312621     978\n312608    1029\n312607    1019\n312629     962\n312628     995\nName: arrival_delay, dtype: int64"
     },
     "execution_count": 12,
     "metadata": {},
     "output_type": "execute_result"
    }
   ],
   "source": [
    "y = df['arrival_delay']\n",
    "y.head()"
   ]
  },
  {
   "cell_type": "code",
   "execution_count": 13,
   "id": "31354432",
   "metadata": {
    "id": "31354432",
    "executionInfo": {
     "status": "aborted",
     "timestamp": 1728461895815,
     "user_tz": -120,
     "elapsed": 12,
     "user": {
      "displayName": "kasyful humam",
      "userId": "15081687490679394530"
     }
    },
    "ExecuteTime": {
     "end_time": "2025-01-22T12:04:04.851706Z",
     "start_time": "2025-01-22T12:04:03.394328Z"
    }
   },
   "outputs": [],
   "source": [
    "from sklearn.model_selection import train_test_split\n",
    "X_train, X_test, y_train, y_test = train_test_split(x, y, test_size=0.2, random_state=42)"
   ]
  },
  {
   "cell_type": "code",
   "execution_count": 14,
   "id": "806b1818",
   "metadata": {
    "id": "806b1818",
    "executionInfo": {
     "status": "aborted",
     "timestamp": 1728461895815,
     "user_tz": -120,
     "elapsed": 12,
     "user": {
      "displayName": "kasyful humam",
      "userId": "15081687490679394530"
     }
    },
    "ExecuteTime": {
     "end_time": "2025-01-22T12:04:05.694627Z",
     "start_time": "2025-01-22T12:04:04.852797Z"
    }
   },
   "outputs": [],
   "source": [
    "from sklearn.linear_model import LinearRegression\n",
    "\n",
    "# Create a Linear Regression model\n",
    "model_LR = LinearRegression()\n",
    "\n",
    "# Fit the model to the training data\n",
    "model_LR.fit(X_train, y_train)\n",
    "\n",
    "# Predict the test data with the fitted model\n",
    "y_pred_LR = model_LR.predict(X_test)"
   ]
  },
  {
   "cell_type": "code",
   "outputs": [
    {
     "name": "stdout",
     "output_type": "stream",
     "text": [
      "Mean Absolute Error: 12.59900050206839\n",
      "Mean Squared Error: 380.14345276601483\n",
      "R-squared: 0.989320494133731\n"
     ]
    }
   ],
   "source": [
    "from sklearn.metrics import mean_absolute_error, mean_squared_error, r2_score\n",
    "\n",
    "mae_LR = mean_absolute_error(y_test, y_pred_LR)\n",
    "mse_LR = mean_squared_error(y_test, y_pred_LR)\n",
    "r2_LR = r2_score(y_test, y_pred_LR)\n",
    "\n",
    "print(f\"Mean Absolute Error: {mae_LR}\")\n",
    "print(f\"Mean Squared Error: {mse_LR}\")\n",
    "print(f\"R-squared: {r2_LR}\")"
   ],
   "metadata": {
    "id": "29612b5a",
    "executionInfo": {
     "status": "aborted",
     "timestamp": 1728461895815,
     "user_tz": -120,
     "elapsed": 12,
     "user": {
      "displayName": "kasyful humam",
      "userId": "15081687490679394530"
     }
    },
    "ExecuteTime": {
     "end_time": "2025-01-22T12:04:05.708319Z",
     "start_time": "2025-01-22T12:04:05.696635Z"
    }
   },
   "id": "29612b5a",
   "execution_count": 15
  },
  {
   "cell_type": "code",
   "outputs": [
    {
     "name": "stdout",
     "output_type": "stream",
     "text": [
      "                              Feature  Coefficient\n",
      "4                 upstream_stop_delay     1.006001\n",
      "1                          dwell_time     0.984482\n",
      "7                     recurrent_delay     0.971984\n",
      "3               scheduled_travel_time    -0.963733\n",
      "8          factor(day_of_week)weekday     0.551202\n",
      "9          factor(day_of_week)weekend    -0.551202\n",
      "11    factor(time_of_day)Morning_peak     0.484410\n",
      "12        factor(time_of_day)Off-peak    -0.349165\n",
      "10  factor(time_of_day)Afternoon_peak    -0.135246\n",
      "0                       stop_sequence    -0.067697\n",
      "2    travel_time_for_previous_section     0.010759\n",
      "6                  previous_bus_delay     0.007514\n",
      "5                        origin_delay    -0.003862\n",
      "13                            outlier     0.000000\n"
     ]
    },
    {
     "data": {
      "text/plain": "<Figure size 1000x600 with 1 Axes>",
      "image/png": "[encoded data removed]"
     },
     "metadata": {},
     "output_type": "display_data"
    }
   ],
   "source": [
    "import pandas as pd\n",
    "import matplotlib.pyplot as plt\n",
    "\n",
    "# Ensure that the model has been trained before accessing the coefficients\n",
    "# Example: model_LR = LinearRegression().fit(X_train, y_train)\n",
    "\n",
    "# Get coefficients from the linear regression model\n",
    "coefficients = model_LR.coef_\n",
    "\n",
    "# Create a DataFrame to store features and their corresponding coefficients\n",
    "coef_df = pd.DataFrame({\n",
    "    'Feature': X_train.columns,\n",
    "    'Coefficient': coefficients\n",
    "})\n",
    "\n",
    "# Create an absolute value column for sorting\n",
    "coef_df['abs_coefficient'] = coef_df['Coefficient'].abs()\n",
    "\n",
    "# Sort features by the absolute value of the coefficients\n",
    "coef_df = coef_df.sort_values(by='abs_coefficient', ascending=False)\n",
    "\n",
    "# Display the features with the highest influence (sorted by coefficient)\n",
    "print(coef_df[['Feature', 'Coefficient']])\n",
    "\n",
    "# Plot the coefficients for each feature\n",
    "plt.figure(figsize=(10, 6))\n",
    "plt.barh(coef_df['Feature'], coef_df['Coefficient'], color='skyblue')\n",
    "plt.xlabel('Coefficient Value')\n",
    "plt.ylabel('Feature')\n",
    "plt.title('Feature Importance based on Coefficients')\n",
    "plt.gca().invert_yaxis()  # Invert the y-axis to have the highest at the top\n",
    "plt.show()\n"
   ],
   "metadata": {
    "id": "93b9d5790f47f9f6",
    "executionInfo": {
     "status": "aborted",
     "timestamp": 1728461895815,
     "user_tz": -120,
     "elapsed": 12,
     "user": {
      "displayName": "kasyful humam",
      "userId": "15081687490679394530"
     }
    },
    "ExecuteTime": {
     "end_time": "2025-01-22T12:04:06.060646Z",
     "start_time": "2025-01-22T12:04:05.709397Z"
    }
   },
   "id": "93b9d5790f47f9f6",
   "execution_count": 16
  },
  {
   "cell_type": "code",
   "source": [
    "from google.colab import files\n",
    "uploaded = files.upload()  # Akan membuka dialog untuk memilih file\n"
   ],
   "metadata": {
    "id": "nT4giJJOD18S",
    "executionInfo": {
     "status": "aborted",
     "timestamp": 1728461895815,
     "user_tz": -120,
     "elapsed": 12,
     "user": {
      "displayName": "kasyful humam",
      "userId": "15081687490679394530"
     }
    },
    "ExecuteTime": {
     "end_time": "2025-01-22T12:04:06.132093Z",
     "start_time": "2025-01-22T12:04:06.061757Z"
    }
   },
   "id": "nT4giJJOD18S",
   "execution_count": 17,
   "outputs": [
    {
     "ename": "ModuleNotFoundError",
     "evalue": "No module named 'google.colab'",
     "output_type": "error",
     "traceback": [
      "\u001B[1;31m---------------------------------------------------------------------------\u001B[0m",
      "\u001B[1;31mModuleNotFoundError\u001B[0m                       Traceback (most recent call last)",
      "Cell \u001B[1;32mIn[17], line 1\u001B[0m\n\u001B[1;32m----> 1\u001B[0m \u001B[38;5;28;01mfrom\u001B[39;00m \u001B[38;5;21;01mgoogle\u001B[39;00m\u001B[38;5;21;01m.\u001B[39;00m\u001B[38;5;21;01mcolab\u001B[39;00m \u001B[38;5;28;01mimport\u001B[39;00m files\n\u001B[0;32m      2\u001B[0m uploaded \u001B[38;5;241m=\u001B[39m files\u001B[38;5;241m.\u001B[39mupload()\n",
      "\u001B[1;31mModuleNotFoundError\u001B[0m: No module named 'google.colab'"
     ]
    }
   ]
  },
  {
   "cell_type": "code",
   "outputs": [
    {
     "name": "stdout",
     "output_type": "stream",
     "text": [
      "Predicted arrival_delay at your station: 2.7142359856045823\n",
      "Predicted arrival_delay at your destination: 2.7714174318641183\n"
     ]
    }
   ],
   "source": [
    "import joblib\n",
    "import pandas as pd\n",
    "\n",
    "# Mapping for stop names to numbers\n",
    "stop_mapping = {\n",
    "    'skanstull': 1, 'eriksdal': 2, 'rosenlund': 3, 'södrastation': 4,\n",
    "    'hornsgatan/rosenlundsgatan': 5, 'zinkensdamm': 6, 'varvsgatan': 7,\n",
    "    'hornstull': 8, 'högalidsgatan': 9, 'västerbroplan': 10, 'mariebergsgatan': 11,\n",
    "    'fridhemsplan': 12, 'flemminggatan': 13, 'steriksplan': 14, 'dalagatan': 15,\n",
    "    'odenplan': 16, 'stadsbiblioteket': 17, 'roslagsgatan': 18, 'vallhallavägen': 19,\n",
    "    'östrastation': 20, 'stadion': 21, 'musikhögskolan': 22, 'jungfrugatan': 23,\n",
    "    'värtavägen': 24, 'banergatan': 25, 'garnisonen': 26, 'radiohuset': 27\n",
    "}\n",
    "\n",
    "# Load model function\n",
    "def load_trained_model(filepath):\n",
    "    model = joblib.load(filepath)\n",
    "    return model\n",
    "\n",
    "# Function to get stop number from user input (either a number or a name)\n",
    "def get_stop_number(prompt):\n",
    "    user_input = input(prompt).strip().lower().replace(\" \", \"\")\n",
    "    if user_input.isdigit() and 1 <= int(user_input) <= 27:\n",
    "        return int(user_input)\n",
    "    elif user_input in stop_mapping:\n",
    "        return stop_mapping[user_input]\n",
    "    else:\n",
    "        print(\"Invalid stop. Please enter a valid stop number (1-27) or stop name.\")\n",
    "        return get_stop_number(prompt)\n",
    "\n",
    "# Function to get time factors\n",
    "def get_time_factors():\n",
    "    time_of_week = input(\"Is it a weekday or weekend? (Enter 'weekday' or 'weekend'): \").strip().lower()\n",
    "    if time_of_week == 'weekday':\n",
    "        weekday = 1\n",
    "        weekend = 0\n",
    "    elif time_of_week == 'weekend':\n",
    "        weekday = 0\n",
    "        weekend = 1\n",
    "    else:\n",
    "        print(\"Invalid input. Please enter 'weekday' or 'weekend'.\")\n",
    "        return get_time_factors()\n",
    "\n",
    "    morning_peak, afternoon_peak, off_peak = get_time_of_day()\n",
    "    return {\n",
    "        'factor(day_of_week)weekday': weekday,\n",
    "        'factor(day_of_week)weekend': weekend,\n",
    "        'factor(time_of_day)Afternoon_peak': afternoon_peak,\n",
    "        'factor(time_of_day)Morning_peak': morning_peak,\n",
    "        'factor(time_of_day)Off-peak': off_peak\n",
    "    }\n",
    "\n",
    "def get_time_of_day():\n",
    "    time_of_day = input(\"Is it Morning peak, Afternoon peak, or Off-peak? (Enter 'morning', 'afternoon', or 'off-peak'): \").strip().lower()\n",
    "    if time_of_day == 'morning':\n",
    "        return 1, 0, 0\n",
    "    elif time_of_day == 'afternoon':\n",
    "        return 0, 1, 0\n",
    "    elif time_of_day == 'off-peak':\n",
    "        return 0, 0, 1\n",
    "    else:\n",
    "        print(\"Invalid input. Please enter 'morning', 'afternoon', or 'off-peak'.\")\n",
    "        return get_time_of_day()\n",
    "\n",
    "# Function to get user input\n",
    "def get_user_input():\n",
    "    get_off_stop = get_stop_number(\"Enter stop you're going to (1-27 or stop name): \")\n",
    "    user_data = {\n",
    "        'stop_sequence': get_stop_number(\"Enter stop you're at (1-27 or stop name): \"),\n",
    "        'dwell_time': int(input(\"Enter dwell_time (in seconds): \")),\n",
    "        'travel_time_for_previous_section': int(input(\"Enter travel_time_for_previous_section (in seconds): \")),\n",
    "        'scheduled_travel_time': int(input(\"Enter scheduled_travel_time (in seconds): \")),\n",
    "        'upstream_stop_delay': int(input(\"Enter upstream_stop_delay (in seconds): \")),\n",
    "        'origin_delay': int(input(\"Enter origin_delay (in seconds): \")),\n",
    "        'previous_bus_delay': int(input(\"Enter previous_bus_delay (in seconds): \")),\n",
    "        'recurrent_delay': float(input(\"Enter recurrent_delay (in seconds): \"))\n",
    "    }\n",
    "\n",
    "    time_factors = get_time_factors()\n",
    "    user_data.update(time_factors)\n",
    "\n",
    "    return user_data, get_off_stop\n",
    "\n",
    "# Load the trained model\n",
    "filepath = 'linear_regression_model.pkl'\n",
    "model_LR = load_trained_model(filepath)\n",
    "\n",
    "# Get input from user\n",
    "input_data, get_off_stop = get_user_input()\n",
    "input_df = pd.DataFrame([input_data])\n",
    "\n",
    "# Ensure 'distance_from_median' is added if missing\n",
    "if 'distance_from_median' not in input_df.columns:\n",
    "    input_df['distance_from_median'] = 0  # Default value\n",
    "\n",
    "# Get the feature names from the trained model\n",
    "feature_names = model_LR.feature_names_in_\n",
    "\n",
    "# Add missing columns with default values (0)\n",
    "for col in feature_names:\n",
    "    if col not in input_df.columns:\n",
    "        input_df[col] = 0\n",
    "\n",
    "# Ensure the columns are in the correct order expected by the model\n",
    "input_df = input_df[feature_names]\n",
    "\n",
    "# Make the first prediction at the starting stop\n",
    "prediction_start_station = model_LR.predict(input_df)\n",
    "\n",
    "# Update the stop_sequence for the destination stop\n",
    "input_df.loc[0, 'stop_sequence'] = get_off_stop\n",
    "\n",
    "# Make the second prediction at the destination stop\n",
    "prediction_end_station = model_LR.predict(input_df)\n",
    "\n",
    "# Output the predictions\n",
    "print(f\"Predicted arrival_delay at your station: {prediction_start_station[0]}\")\n",
    "print(f\"Predicted arrival_delay at your destination: {prediction_end_station[0]}\")\n"
   ],
   "metadata": {
    "id": "9465d8a0b845daa5",
    "executionInfo": {
     "status": "aborted",
     "timestamp": 1728461895815,
     "user_tz": -120,
     "elapsed": 11,
     "user": {
      "displayName": "kasyful humam",
      "userId": "15081687490679394530"
     }
    },
    "ExecuteTime": {
     "end_time": "2025-01-22T12:04:27.092577Z",
     "start_time": "2025-01-22T12:04:06.448319Z"
    }
   },
   "id": "9465d8a0b845daa5",
   "execution_count": 18
  },
  {
   "cell_type": "code",
   "outputs": [],
   "source": [],
   "metadata": {
    "collapsed": false
   },
   "id": "d0b34f9fd65bdd07"
  }
 ],
 "metadata": {
  "kernelspec": {
   "display_name": "Python 3 (ipykernel)",
   "language": "python",
   "name": "python3"
  },
  "language_info": {
   "codemirror_mode": {
    "name": "ipython",
    "version": 3
   },
   "file_extension": ".py",
   "mimetype": "text/x-python",
   "name": "python",
   "nbconvert_exporter": "python",
   "pygments_lexer": "ipython3",
   "version": "3.11.5"
  },
  "colab": {
   "provenance": []
  }
 },
 "nbformat": 4,
 "nbformat_minor": 5
}
